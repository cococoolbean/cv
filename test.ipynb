{
 "cells": [
  {
   "cell_type": "code",
   "execution_count": null,
   "metadata": {
    "vscode": {
     "languageId": "plaintext"
    }
   },
   "outputs": [],
   "source": [
    "import cv2\n",
    "import numpy as np\n",
    "\n",
    "# Load images\n",
    "top_view = cv2.imread('top_view.jpg', cv2.IMREAD_GRAYSCALE)\n",
    "side_view = cv2.imread('side_view.jpg', cv2.IMREAD_GRAYSCALE)\n",
    "\n",
    "# Edge Detection\n",
    "edges_top = cv2.Canny(top_view, 100, 200)\n",
    "edges_side = cv2.Canny(side_view, 100, 200)\n",
    "\n",
    "# Find Contours for each view\n",
    "contours_top, _ = cv2.findContours(edges_top, cv2.RETR_EXTERNAL, cv2.CHAIN_APPROX_SIMPLE)\n",
    "contours_side, _ = cv2.findContours(edges_side, cv2.RETR_EXTERNAL, cv2.CHAIN_APPROX_SIMPLE)\n",
    "\n",
    "# Size Estimation (Example using contour area or bounding box dimensions)\n",
    "# Top view dimensions\n",
    "for contour in contours_top:\n",
    "    x, y, w, h = cv2.boundingRect(contour)\n",
    "    print(\"Top view - Width:\", w, \"Length:\", h)\n",
    "\n",
    "# Side view dimensions\n",
    "for contour in contours_side:\n",
    "    x, y, w, h = cv2.boundingRect(contour)\n",
    "    print(\"Side view - Height:\", h, \"Width (to compare):\", w)\n"
   ]
  }
 ],
 "metadata": {
  "language_info": {
   "name": "python"
  }
 },
 "nbformat": 4,
 "nbformat_minor": 2
}
